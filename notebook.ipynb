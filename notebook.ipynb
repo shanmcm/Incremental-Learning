{
  "nbformat": 4,
  "nbformat_minor": 0,
  "metadata": {
    "accelerator": "GPU",
    "colab": {
      "name": "notebook.ipynb",
      "provenance": [],
      "collapsed_sections": []
    },
    "kernelspec": {
      "display_name": "Python 3",
      "language": "python",
      "name": "python3"
    },
    "language_info": {
      "codemirror_mode": {
        "name": "ipython",
        "version": 3
      },
      "file_extension": ".py",
      "mimetype": "text/x-python",
      "name": "python",
      "nbconvert_exporter": "python",
      "pygments_lexer": "ipython3",
      "version": "3.7.9"
    }
  },
  "cells": [
    {
      "cell_type": "code",
      "metadata": {
        "id": "XUBOJKyfdF0p"
      },
      "source": [
        "!nvidia-smi\n",
        "from utils import confusionMatrix, initialize_and_get_args, get_training_test_batches, accuracyPlot, get_model, avg\n",
        "from iCaRL import run, run_lwf\n",
        "from torch import nn"
      ],
      "execution_count": null,
      "outputs": []
    },
    {
      "cell_type": "code",
      "metadata": {
        "id": "wxO3GMCMy1a3"
      },
      "source": [
        "mode = \"cwwnr\" # default, owr, cwwr, ownr or cwwnr\n",
        "model_type = \"resnet44\" # resnet32, resnet44, resnet56, resnet110  \n",
        "args = initialize_and_get_args(model_type = model_type)\n",
        "train_batches, test_batches = get_training_test_batches(mode)\n",
        "\n",
        "model = get_model(model_type)\n",
        "model = model.to(args[\"device\"])\n",
        "distill_loss = nn.BCEWithLogitsLoss() # BCEWithLogitsLoss, L1Loss, MSELoss, CELoss\n",
        "classif_loss = nn.BCEWithLogitsLoss() \n",
        "classifier = 'NME' # FC, SVM, KNN\n",
        "finetuning=False\n",
        "acc_default=run(train_batches, test_batches, model, classifier, classif_loss, distill_loss, args, finetuning, mode)\n",
        "print(acc_default)"
      ],
      "execution_count": null,
      "outputs": []
    },
    {
      "cell_type": "code",
      "metadata": {
        "id": "dePzkJ-9aNfh"
      },
      "source": [
        "mode = \"ownr\"\n",
        "model_type = \"resnet44\"   \n",
        "args = initialize_and_get_args(model_type = model_type)\n",
        "train_batches, test_batches = get_training_test_batches(mode)\n",
        "\n",
        "model = get_model(model_type)\n",
        "model = model.to(args[\"device\"])\n",
        "distill_loss = nn.BCEWithLogitsLoss() \n",
        "classif_loss = nn.BCEWithLogitsLoss() \n",
        "classifier = 'NME'\n",
        "finetuning=False\n",
        "acc_default=run(train_batches, test_batches, model, classifier, classif_loss, distill_loss, args, finetuning, mode)\n",
        "print(acc_default)"
      ],
      "execution_count": null,
      "outputs": []
    }
  ]
}